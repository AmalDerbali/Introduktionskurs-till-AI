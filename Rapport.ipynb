{
 "cells": [
  {
   "cell_type": "markdown",
   "source": [
    "REPORT: Workflow for AI projects\r\n",
    "\r\n",
    "\r\n",
    "Developing an accurate estimation model for house prices is  needed for socio-economic development and for workers in the housing market.  The machine learning algorithms is used to develop housing price prediction models for estimating the future house pricing.\r\n",
    "Machine learning is a field of computer science that gives computers the ability to learn without being programmed explicitly. The power of machine learning is that you can determine how to differentiate using models, rather than using human judgment. The basic steps that lead to machine learning and will teach you how it works are described below (2) :\r\n",
    "\r\n",
    "1. Data collection :\r\n",
    "Once you know exactly what you want and the equipment are in hand, it takes you to the first real step of machine learning- Gathering Data. This step is very crucial as the quality and quantity of data gathered will directly determine how good the predictive model will turn out to be. The data collected is then tabulated and called as Training Data(2) . Data can be collected using scraping software that collects data from the internet in a format that the machine learning model can use. When parsing, the output data is interpreted by a machine. Data scrapping is also referred to as data extraction.Data scrapping is very useful as if humans perform the data collection from the internet, and there are many chances of error as machines transfer data between programs in the form of data structures that provide high integrity of the data (1). \r\n",
    "\r\n",
    "2. Preprocessing:\r\n",
    "After the data is gathered, the next step of machine learning is data preparation, where the data is prepared for use in machine learning training. Here, the data is first put all together and then the order is randomized as the order of data should not affect what is learned. This is also a good enough time to do any visualizations of the data, as that will help you see if there are any relevant relationships between the different variables, how you can take their advantage and as well as show you if there are any data imbalances present. The other forms of adjusting and manipulation like normalization, error correction, and more take place at this step (2). In the dataset, records can be accommodated with duplicate entries or null values. These duplicate entries are eliminated, and the records of null values are removed from the dataset in the preparation stage. Some features are excluded from the dataset because of their low correlations with the target variable or lack of contribution to the increase the house price prediction accuracy, such as the zip code (3) .\r\n",
    "Locations, views, and other variables were encoded into numbers for better analysis results. We computed the binary variable Build from the year of construction of the house. Machine learning algorithms such as neural networks perform best on data values ranges from 0 to 1, so we scaled down our dataset values between 0 and 1 using the Min-Max scaling algorithm. Later on, for performance evaluation, the values are scaled up to their original range. The Correlation Coefficient value for Bedrooms and Bathrooms with respect to price features is high than the rest of the features, which shows that price features having a strong relationship with Bedrooms and Bathrooms features, and hence these will contribute more than other features in house price prediction. All the features except Area, Central air conditioning, location, view having some sort of relationship with the price feature. After applying Preprocessing the dataset, it´s time for training, validation, and testing subsets (1) .\r\n",
    "\r\n",
    "3.\tAnalysis procedure : machine learning  Linear regression method:\r\n",
    "Linear regression are used too much because its easy, straightforward to understand. It is one of the most basic and popular algorithms in machine learning (1) .\r\n",
    "It is an algorithm in which the predicted output is continuous with having a constant slope. It is used to predict the values in a continuous range instead of classifying the values in the categories. Linear regression is used for performing different tasks like house price prediction.\r\n",
    "In data science, Linear Regression is a supervised machine learning model that attempts to model a linear relationship between dependent variables  and independent variables.  Every evaluated observation with a model, the target’s actual value is compared to the target’s predicted value, and the major differences in these values are called residuals. The Linear Regression model aims to minimize the sum of all squared residuals (4) .\r\n",
    "Consider a company of real estate with datasets containing the property prices of a specific region. The price of a property is based on essential factors like bedrooms, areas, and parking.  Majorly, a real estate company requires:\r\n",
    "⦁\tFind the variable that affects the price of a house.\r\n",
    "⦁\tCreating a linear model quantitatively related to the house price with variables like areas, number of rooms and bathroom, etc.\r\n",
    "⦁\tFor finding the accuracy of a model, that means how well the variables can predict the prices of a house(4) .\r\n",
    "\r\n",
    "References :\r\n",
    "\r\n",
    "(1) Imran, Umar Zaman, Muhammad Waqar and Atif Zaman. 2021. \"Using Machine Learning Algorithms for Housing Price Prediction: The Case of Islamabad Housing Data\". Soft Computing and Machine Intelligence Journal, Vol 1, Issue 1.\r\n",
    "\r\n",
    "(2) kirti Bakshi. 2017. \"The Seven Steps Of Machine Learning\". https://www.techleer.com/articles/379-the-seven-steps-of-machine-learning/ \r\n",
    "\r\n",
    "(3) Shashi Bhushan Jha1, Radu F. Babiceanu1,Vijay Pandey and Rajesh Kumar Jha3. 2020. \"Housing Market Prediction Problem using Different Machine Learning Algorithms: A Case Study\". https://arxiv.org/abs/2006.10092 \r\n",
    "\r\n",
    "(4) Simran Kaur. 2021. \"House Price Prediction Using Linear Regression\". House Price Prediction Using Linear Regression (linux hint.com)\r\n"
   ],
   "metadata": {}
  }
 ],
 "metadata": {
  "orig_nbformat": 4,
  "language_info": {
   "name": "python",
   "version": "3.9.6"
  },
  "kernelspec": {
   "name": "python3",
   "display_name": "Python 3.9.6 64-bit"
  },
  "interpreter": {
   "hash": "eacaffae8a739d4b7c9a2bb010540ab3fb2fd534d4d9d1bb6421b24cb8b2e27c"
  }
 },
 "nbformat": 4,
 "nbformat_minor": 2
}